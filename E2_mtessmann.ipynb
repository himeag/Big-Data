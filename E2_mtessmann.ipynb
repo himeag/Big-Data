{
 "cells": [
  {
   "cell_type": "markdown",
   "metadata": {},
   "source": [
    "# Exercise 2\n",
    "\n",
    "## Completed by:  Enter your name here"
   ]
  },
  {
   "cell_type": "markdown",
   "metadata": {},
   "source": [
    "In this exercise, we will complete tasks to help you get more practice with writing code using standard Python. Please answer the questions for each task given in bold font below"
   ]
  },
  {
   "cell_type": "markdown",
   "metadata": {},
   "source": [
    "## Task 1"
   ]
  },
  {
   "cell_type": "markdown",
   "metadata": {},
   "source": [
    "**What is 5 to the power of 6?**\n",
    "\n",
    "    Use ** operator, which is shorthand for Python's built-in power function\n",
    "\n",
    "Provide your answer in the following cell."
   ]
  },
  {
   "cell_type": "code",
   "execution_count": 1,
   "metadata": {},
   "outputs": [
    {
     "data": {
      "text/plain": [
       "15625"
      ]
     },
     "execution_count": 1,
     "metadata": {},
     "output_type": "execute_result"
    }
   ],
   "source": [
    "5**6"
   ]
  },
  {
   "cell_type": "markdown",
   "metadata": {},
   "source": [
    "## Task 2"
   ]
  },
  {
   "cell_type": "markdown",
   "metadata": {},
   "source": [
    "**Split this string:**\n",
    "\n",
    "    \"It's a great day today, isn't it?\"\n",
    "    \n",
    "**into a list.**\n",
    "\n",
    "Write code in the cells below to print [\"It's a great day today\", \" isn't it?\"]"
   ]
  },
  {
   "cell_type": "code",
   "execution_count": 2,
   "metadata": {},
   "outputs": [],
   "source": [
    "# define the string here\n",
    "string1 = \"It's a great day today, isn't it?\""
   ]
  },
  {
   "cell_type": "code",
   "execution_count": 3,
   "metadata": {},
   "outputs": [
    {
     "data": {
      "text/plain": [
       "[\"It's a great day today\", \" isn't it?\"]"
      ]
     },
     "execution_count": 3,
     "metadata": {},
     "output_type": "execute_result"
    }
   ],
   "source": [
    "# obtain the list here\n",
    "string1.split(',')"
   ]
  },
  {
   "cell_type": "markdown",
   "metadata": {},
   "source": [
    "## Task 3"
   ]
  },
  {
   "cell_type": "markdown",
   "metadata": {},
   "source": [
    "**Given this nested list**\n",
    "\n",
    "    [20.7,-10,[5,7,8],[100.5,[True,True,['hello']],True,False],1,7]\n",
    "\n",
    "**use indexing to grab the word \"hello\"**\n",
    "\n",
    "Write your answer in the cells below."
   ]
  },
  {
   "cell_type": "code",
   "execution_count": 4,
   "metadata": {},
   "outputs": [
    {
     "name": "stdout",
     "output_type": "stream",
     "text": [
      "[20.7, -10, [5, 7, 8], [100.5, [True, True, ['hello']], True, False], 1, 7]\n"
     ]
    }
   ],
   "source": [
    "# define the list here\n",
    "list1 = [20.7,-10,[5,7,8],[100.5,[True,True,['hello']],True,False],1,7]\n",
    "print(list1)"
   ]
  },
  {
   "cell_type": "code",
   "execution_count": 5,
   "metadata": {},
   "outputs": [
    {
     "name": "stdout",
     "output_type": "stream",
     "text": [
      "hello\n"
     ]
    }
   ],
   "source": [
    "# obtain just the word hello\n",
    "print(list1[3][1][2][0])"
   ]
  },
  {
   "cell_type": "markdown",
   "metadata": {},
   "source": [
    "## Task 4"
   ]
  },
  {
   "cell_type": "markdown",
   "metadata": {},
   "source": [
    "**Given this nested dictionary**\n",
    "\n",
    "    {'id':[1,2,3,{'four':['five','six','seven',{'eight':[9,10,11,'twelve']}]}]}\n",
    "\n",
    "**grab the word \"twelve\".**\n",
    "\n",
    "Write your answer in the cells below."
   ]
  },
  {
   "cell_type": "code",
   "execution_count": 6,
   "metadata": {},
   "outputs": [
    {
     "data": {
      "text/plain": [
       "{'id': [1,\n",
       "  2,\n",
       "  3,\n",
       "  {'four': ['five', 'six', 'seven', {'eight': [9, 10, 11, 'twelve']}]}]}"
      ]
     },
     "execution_count": 6,
     "metadata": {},
     "output_type": "execute_result"
    }
   ],
   "source": [
    "# define the dict here\n",
    "dict1 = {'id':[1,2,3,{'four':['five','six','seven',{'eight':[9,10,11,'twelve']}]}]}\n",
    "dict1"
   ]
  },
  {
   "cell_type": "code",
   "execution_count": 7,
   "metadata": {},
   "outputs": [
    {
     "data": {
      "text/plain": [
       "'twelve'"
      ]
     },
     "execution_count": 7,
     "metadata": {},
     "output_type": "execute_result"
    }
   ],
   "source": [
    "# obtain the word\n",
    "dict1['id'][3]['four'][3]['eight'][3]"
   ]
  },
  {
   "cell_type": "markdown",
   "metadata": {},
   "source": [
    "## Task 5"
   ]
  },
  {
   "cell_type": "markdown",
   "metadata": {},
   "source": [
    "**Create a function that has two parameters - and returns the count of the number of times the second parameter (a word) occurs in the first parameter (a sentence). Ignore any punctuation being attached to the word being searched for. Capitalization matters, so dog only matches dog but not DOg or doG**\n",
    "\n",
    "Write your answer in the cells below."
   ]
  },
  {
   "cell_type": "code",
   "execution_count": 33,
   "metadata": {},
   "outputs": [],
   "source": [
    "# write the function here\n",
    "def word_in(one, two):\n",
    "    count=0\n",
    "    # not sure if 'ignore punctuation' means to remove it or not worry about coding for it. removing just in case\n",
    "    punctuations = '''!()-[]{};:'\"\\,<>./?@#$%^&*_~'''\n",
    "    no_punct_one = \"\"\n",
    "    no_punct_two = \"\"\n",
    "    for char in one:\n",
    "        if char not in punctuations:\n",
    "            no_punct_one = no_punct_one + char\n",
    "    for char in two:\n",
    "        if char not in punctuations:\n",
    "            no_punct_two = no_punct_two + char\n",
    "    words = no_punct_one.split(' ')\n",
    "    for word in words:\n",
    "        if no_punct_two in word:\n",
    "            count += 1\n",
    "    return count\n"
   ]
  },
  {
   "cell_type": "code",
   "execution_count": 37,
   "metadata": {},
   "outputs": [
    {
     "data": {
      "text/plain": [
       "2"
      ]
     },
     "execution_count": 37,
     "metadata": {},
     "output_type": "execute_result"
    }
   ],
   "source": [
    "# call the function with arguments \"my dog runs faster than your dog\" and \"dog\"\n",
    "word_in('my dog runs faster than your dog', 'dog')"
   ]
  },
  {
   "cell_type": "code",
   "execution_count": 38,
   "metadata": {},
   "outputs": [
    {
     "data": {
      "text/plain": [
       "0"
      ]
     },
     "execution_count": 38,
     "metadata": {},
     "output_type": "execute_result"
    }
   ],
   "source": [
    "# call the function with arguments \"my dog runs faster than your dog\" and \"DOG\"\n",
    "word_in('my dog runs faster than your dog', 'DOG')"
   ]
  },
  {
   "cell_type": "markdown",
   "metadata": {},
   "source": [
    "## Task 6"
   ]
  },
  {
   "cell_type": "markdown",
   "metadata": {},
   "source": [
    "**Create a function that has two parameters - the first is a string to search and the second is the substring to find in the first string. This function returns True if the second string is contained in the first string.** \n",
    "\n",
    "**Don't worry about edge cases like a punctuation being attached to the word, and *ignore* any capitalization in the word searched for AND the string searched in (which means searching for DoG or dog should also match DOG or dOg or dog etc.)**\n",
    "\n",
    "Write your answer in the cell below."
   ]
  },
  {
   "cell_type": "code",
   "execution_count": 11,
   "metadata": {},
   "outputs": [],
   "source": [
    "# write the function here\n",
    "def phrase_in(one, two):\n",
    "    if two.lower() in one.lower():\n",
    "        return True\n",
    "    else:\n",
    "        return False\n",
    "        "
   ]
  },
  {
   "cell_type": "code",
   "execution_count": 12,
   "metadata": {},
   "outputs": [
    {
     "data": {
      "text/plain": [
       "True"
      ]
     },
     "execution_count": 12,
     "metadata": {},
     "output_type": "execute_result"
    }
   ],
   "source": [
    "# call the function with arguments \"there's a big DOG in the house\" and \"dog\"\n",
    "phrase_in(\"there's a big DOG in the house\", 'dog')"
   ]
  },
  {
   "cell_type": "code",
   "execution_count": 13,
   "metadata": {},
   "outputs": [
    {
     "data": {
      "text/plain": [
       "True"
      ]
     },
     "execution_count": 13,
     "metadata": {},
     "output_type": "execute_result"
    }
   ],
   "source": [
    "# call the function with arguments \"there's a big doG in the house\" and \"DOG\"\n",
    "phrase_in(\"there's a big doG in the house\", \"DOG\")"
   ]
  },
  {
   "cell_type": "code",
   "execution_count": 14,
   "metadata": {},
   "outputs": [
    {
     "data": {
      "text/plain": [
       "False"
      ]
     },
     "execution_count": 14,
     "metadata": {},
     "output_type": "execute_result"
    }
   ],
   "source": [
    "# call the function with arguments \"there's a big cat in the house\" and \"dog\"\n",
    "phrase_in(\"there's a big cat in the house\", \"dog\")"
   ]
  },
  {
   "cell_type": "markdown",
   "metadata": {},
   "source": [
    "## Task 7"
   ]
  },
  {
   "cell_type": "markdown",
   "metadata": {},
   "source": [
    "**Use lambda expressions and the filter() function to filter out words from a list that don't end with the letter 't'. For example:**\n",
    "\n",
    "    ['dog','cat','rabbit','duck','hamster']\n",
    "\n",
    "**should be filtered down to:**\n",
    "\n",
    "    ['cat','rabbit']"
   ]
  },
  {
   "cell_type": "code",
   "execution_count": 15,
   "metadata": {},
   "outputs": [],
   "source": [
    "# learn to use a new function\n",
    "# The filter() function is a built-in Python function that has two parameters. \n",
    "# the first parameter is a lambda function that provides the rule for what to filter \n",
    "#   i.e. keep only values where the lambda function's outcome is True\n",
    "# the second parameter is a sequence that needs filtering\n",
    "\n",
    "# the filter function does not return a sequence, rather it returns a filter object\n",
    "# you can call the list() method and give it a filter object as an argument to create a list from the filter object"
   ]
  },
  {
   "cell_type": "code",
   "execution_count": 16,
   "metadata": {},
   "outputs": [
    {
     "data": {
      "text/plain": [
       "['dog', 'cat', 'rabbit', 'duck', 'hamster']"
      ]
     },
     "execution_count": 16,
     "metadata": {},
     "output_type": "execute_result"
    }
   ],
   "source": [
    "# define the sequence here\n",
    "seq1 = ['dog','cat','rabbit','duck','hamster']\n",
    "seq1"
   ]
  },
  {
   "cell_type": "code",
   "execution_count": 17,
   "metadata": {},
   "outputs": [
    {
     "name": "stdout",
     "output_type": "stream",
     "text": [
      "['cat', 'rabbit']\n"
     ]
    }
   ],
   "source": [
    "# produce the filtered list here\n",
    "result = filter(lambda x: x[-1] == 't', seq1)\n",
    "print(list(result))"
   ]
  },
  {
   "cell_type": "markdown",
   "metadata": {
    "collapsed": true
   },
   "source": [
    "## Task 8"
   ]
  },
  {
   "cell_type": "markdown",
   "metadata": {},
   "source": [
    "**Create a function that returns the username and type of email domain from a string in the form:**\n",
    "\n",
    "    user@eccles.utah.edu\n",
    "    \n",
    "**So for example, passing \"user@eccles.utah.edu\" as an argument to the function would print:**\n",
    "\n",
    "    \"Username is user and domain type is edu\"\n",
    "\n",
    "#see the cell below for how to embed values of variables in output"
   ]
  },
  {
   "cell_type": "code",
   "execution_count": null,
   "metadata": {},
   "outputs": [],
   "source": []
  },
  {
   "cell_type": "code",
   "execution_count": 18,
   "metadata": {},
   "outputs": [],
   "source": [
    "#Write your answer in the cells below."
   ]
  },
  {
   "cell_type": "code",
   "execution_count": 19,
   "metadata": {},
   "outputs": [],
   "source": [
    "# define the function here\n",
    "def printUserAndDomainType(email):\n",
    "    x = email.split('@')\n",
    "    y = x[1].split('.')\n",
    "    print(f'Username is {x[0]} amd domain type is {y[-1]}')"
   ]
  },
  {
   "cell_type": "code",
   "execution_count": 20,
   "metadata": {},
   "outputs": [
    {
     "name": "stdout",
     "output_type": "stream",
     "text": [
      "Username is yourname amd domain type is edu\n",
      "Username is meag amd domain type is com\n"
     ]
    }
   ],
   "source": [
    "# call the function with argument \"yourname@eccles.utah.edu\"\n",
    "printUserAndDomainType('yourname@eccles.utah.edu')\n",
    "printUserAndDomainType('meag@eccles.utah.com')\n"
   ]
  },
  {
   "cell_type": "markdown",
   "metadata": {},
   "source": [
    "## Task 9"
   ]
  },
  {
   "cell_type": "markdown",
   "metadata": {},
   "source": [
    "**You are driving a little too fast, and a police officer stops you. Write a function with two parameters - X and is_birthday. X is the speed in mph and is_birthday is a boolean. \n",
    "If your speed is 60 or less, the result is \"No Ticket\". If speed is between 61 and 80 inclusive, the result is \"Small Ticket\". If speed is 81 or more, the result is \"Big Ticket\". Unless it is your birthday -- on your birthday, your speed can be 5 higher in all cases.**\n",
    "\n",
    "**It returns one of 6 possible results:**\n",
    "\n",
    "  \n",
    "**If it is not the driver's birthday and their speed was X\\\n",
    "  \"your speed was Xmph, you will get: No ticket\"  (if speed is 60 or less)\\\n",
    "  \"your speed was Xmph, you will get: Small ticket\"  (if speed is between 61 and 80 inclusive)\\\n",
    "  \"your speed was Xmph, you will get: Big Ticket\"  (if speed is 81 or more)**\n",
    "\n",
    "**If it is the driver's birthday and their speed was X\\\n",
    "  \"Happy birthday, your speed was Xmph, you will get: No ticket\"  (if speed is 65 or less)\\\n",
    "  \"Happy birthday, your speed was Xmph, you will get: Small ticket\"  (if speed is between 66 and 85 inclusive)\\\n",
    "  \"Happy birthday, your speed was Xmph, you will get: Big Ticket\"  (if speed is 86 or more)**\n",
    "\n",
    "  \n",
    "  Write your answer below\n",
    "  "
   ]
  },
  {
   "cell_type": "code",
   "execution_count": 21,
   "metadata": {},
   "outputs": [],
   "source": [
    "# write the function in this cell\n",
    "def speeding(x, is_birthday):\n",
    "    if not is_birthday:\n",
    "        if x>80:\n",
    "            print(f'your speed was {x} mph, you will get: Big Ticket')\n",
    "        elif x>60:\n",
    "            print(f'your speed was {x} mph, you will get: Small ticket')\n",
    "        elif x<61 and x>0:\n",
    "            print(f'your speed was {x} mph, you will get: No ticket')\n",
    "        else:\n",
    "            print('please enter a valid speed')\n",
    "    elif is_birthday:\n",
    "        if x>80:\n",
    "            print(f'Happy birthday, your speed was {x} mph, you will get: Big Ticket')\n",
    "        elif x>60:\n",
    "            print(f'Happy birthday, your speed was {x} mph, you will get: Small ticket')\n",
    "        elif x<61 and x>0:\n",
    "            print(f'Happy birthday, your speed was {x} mph, you will get: No ticket')\n",
    "        else:\n",
    "            print('please enter a valid speed')\n",
    "    else:\n",
    "        print('please enter a boolean value for birthday')\n",
    "            "
   ]
  },
  {
   "cell_type": "code",
   "execution_count": 22,
   "metadata": {},
   "outputs": [
    {
     "name": "stdout",
     "output_type": "stream",
     "text": [
      "Happy birthday, your speed was 81 mph, you will get: Big Ticket\n"
     ]
    }
   ],
   "source": [
    "# call the function with a speed of 81 and True for birthday\n",
    "speeding(81, True)"
   ]
  },
  {
   "cell_type": "code",
   "execution_count": 23,
   "metadata": {},
   "outputs": [
    {
     "name": "stdout",
     "output_type": "stream",
     "text": [
      "your speed was 81 mph, you will get: Big Ticket\n"
     ]
    }
   ],
   "source": [
    "# call the function with a speed of 81 and False for birthday\n",
    "speeding(81, False)"
   ]
  },
  {
   "cell_type": "markdown",
   "metadata": {},
   "source": [
    "# The end"
   ]
  }
 ],
 "metadata": {
  "kernelspec": {
   "display_name": "Python 3",
   "language": "python",
   "name": "python3"
  },
  "language_info": {
   "codemirror_mode": {
    "name": "ipython",
    "version": 3
   },
   "file_extension": ".py",
   "mimetype": "text/x-python",
   "name": "python",
   "nbconvert_exporter": "python",
   "pygments_lexer": "ipython3",
   "version": "3.7.4"
  },
  "toc": {
   "base_numbering": 1,
   "nav_menu": {},
   "number_sections": false,
   "sideBar": true,
   "skip_h1_title": false,
   "title_cell": "Table of Contents",
   "title_sidebar": "Table of Contents",
   "toc_cell": false,
   "toc_position": {
    "height": "525.467px",
    "left": "34px",
    "top": "202.333px",
    "width": "165px"
   },
   "toc_section_display": true,
   "toc_window_display": true
  },
  "varInspector": {
   "cols": {
    "lenName": 16,
    "lenType": 16,
    "lenVar": 40
   },
   "kernels_config": {
    "python": {
     "delete_cmd_postfix": "",
     "delete_cmd_prefix": "del ",
     "library": "var_list.py",
     "varRefreshCmd": "print(var_dic_list())"
    },
    "r": {
     "delete_cmd_postfix": ") ",
     "delete_cmd_prefix": "rm(",
     "library": "var_list.r",
     "varRefreshCmd": "cat(var_dic_list()) "
    }
   },
   "types_to_exclude": [
    "module",
    "function",
    "builtin_function_or_method",
    "instance",
    "_Feature"
   ],
   "window_display": false
  }
 },
 "nbformat": 4,
 "nbformat_minor": 1
}
