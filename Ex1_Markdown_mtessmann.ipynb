{
 "cells": [
  {
   "cell_type": "markdown",
   "metadata": {},
   "source": [
    "# EXERCISE 1 : Markdown\n",
    "\n",
    "## Completed by:  Enter your name here"
   ]
  },
  {
   "cell_type": "raw",
   "metadata": {},
   "source": [
    "In this exercise, you will practice writing some Markdown. The file contains cells with instructions for tasks followed by an empty cell for you to practice writing Markdown. Outputs for these tasks can be found in the Markdown slides."
   ]
  },
  {
   "cell_type": "markdown",
   "metadata": {},
   "source": [
    "## TASK 1. "
   ]
  },
  {
   "cell_type": "raw",
   "metadata": {},
   "source": [
    "Create 3 headings in decreasing font size. \n",
    "The first heading should be a level 1 heading, and should say: TITLE\n",
    "The second heading a level 2 heading, and should say: This is a markdown cell - it allows us to write formatted text within a Notebook.\n",
    "The 3rd heading is a level 3 heading, and should say: This is a smaller size font.\n",
    "\n",
    "Provide your answer in the following cell."
   ]
  },
  {
   "cell_type": "markdown",
   "metadata": {},
   "source": [
    "# TITLE\n",
    "## This is a markdown cell - it allows us to write formatted text within a Notebook.\n",
    "### This is a smaller size font."
   ]
  },
  {
   "cell_type": "markdown",
   "metadata": {},
   "source": [
    "## TASK 2."
   ]
  },
  {
   "cell_type": "raw",
   "metadata": {},
   "source": [
    "Write three lines of text with an empty line between each. The first line should be in italic, the second should be in bold, and the third should be both bold and italic. The content of the lines is given below.\n",
    "\n",
    "this text is in italic\n",
    "this text is bold\n",
    "this text is in italic and bold\n",
    "\n",
    "Provide your answer in the following cell."
   ]
  },
  {
   "cell_type": "markdown",
   "metadata": {
    "slideshow": {
     "slide_type": "slide"
    }
   },
   "source": [
    "*this text is in italic*\n",
    "\n",
    "**this text is bold**\n",
    "\n",
    "***this text is in italic and bold***\n"
   ]
  },
  {
   "cell_type": "markdown",
   "metadata": {},
   "source": [
    "## TASK 3. "
   ]
  },
  {
   "cell_type": "raw",
   "metadata": {},
   "source": [
    "Write two lines with no extra line between them.\n",
    "\n",
    "The content of the first line is: This is just regular text.\n",
    "The word regular in the above line should be bold and italic (in markdown)\n",
    "\n",
    "The content of the second line is: You can use Markdown syntax as well as some html in a Markdown cell.\n",
    "The word html should be bold, underlined and italicized using html tags (not markdown).\n",
    "\n",
    "Provide your answer in the following cell."
   ]
  },
  {
   "cell_type": "markdown",
   "metadata": {},
   "source": [
    "This is just ***regular text***.  \n",
    "You can use Markdown syntax as well as some <strong><em><u>html</u></em></strong> in a Markdown cell."
   ]
  },
  {
   "cell_type": "markdown",
   "metadata": {},
   "source": [
    "## TASK 4. "
   ]
  },
  {
   "cell_type": "raw",
   "metadata": {},
   "source": [
    "Write two equations.\n",
    "The first line should contain only the equation: x + y = 10\n",
    "Leave a line in between.\n",
    "The second line should say: The equation is a^2 + b = 25\n",
    "where the second equation should be displayed centered on its own line\n",
    "\n",
    "Provide your answer in the cell below."
   ]
  },
  {
   "cell_type": "markdown",
   "metadata": {
    "slideshow": {
     "slide_type": "slide"
    }
   },
   "source": [
    "$ x + y = 10$\n",
    "\n",
    "The equation is $$a^2 + b = 25$$"
   ]
  },
  {
   "cell_type": "markdown",
   "metadata": {},
   "source": [
    "## TASK 5."
   ]
  },
  {
   "cell_type": "raw",
   "metadata": {},
   "source": [
    "Create a line with a hyperlink.\n",
    "\n",
    "Please click on this link to download Anaconda.\n",
    "-The word Anaconda in the above line should be a hyperlink to https://www.anaconda.com/distribution/\n",
    "\n",
    "Provide your answer in the cell below."
   ]
  },
  {
   "cell_type": "markdown",
   "metadata": {
    "slideshow": {
     "slide_type": "slide"
    }
   },
   "source": [
    "Please click on this link to download [Anaconda](https://www.anaconda.com/distribution/)."
   ]
  },
  {
   "cell_type": "markdown",
   "metadata": {},
   "source": [
    "## TASK 6a."
   ]
  },
  {
   "cell_type": "raw",
   "metadata": {},
   "source": [
    "Create an ordered list with a level 3 heading: My List\n",
    "It contains 2 numbered elements\n",
    "1. jam \n",
    "2. butter\n",
    "The 2 items should appear on two different lines.\n",
    "\n",
    "Provide your answer in the cell below."
   ]
  },
  {
   "cell_type": "markdown",
   "metadata": {
    "slideshow": {
     "slide_type": "fragment"
    }
   },
   "source": [
    "### My List\n",
    "1. jam\n",
    "2. butter\n",
    "\n",
    "the expected output shows sub-bullets:\n",
    "\n",
    "1. jam\n",
    "2. butter\\\n",
    "2.1 salted\\\n",
    "2.2 unsalted"
   ]
  },
  {
   "cell_type": "markdown",
   "metadata": {},
   "source": [
    "## TASK 6b."
   ]
  },
  {
   "cell_type": "raw",
   "metadata": {},
   "source": [
    "Create an unordered list with 3 items and sub-items\n",
    "first item, second item (two sub-items: second-one and second-two), third item\n",
    "\n",
    "Provide your answer in the cell below."
   ]
  },
  {
   "cell_type": "markdown",
   "metadata": {
    "slideshow": {
     "slide_type": "fragment"
    }
   },
   "source": [
    "- first item\n",
    "- second item\n",
    "    - second-one\n",
    "    - second-two\n",
    "- third item"
   ]
  },
  {
   "cell_type": "markdown",
   "metadata": {},
   "source": [
    "## TASK 7."
   ]
  },
  {
   "cell_type": "raw",
   "metadata": {},
   "source": [
    "Write a quote you like. Title it in level 2 heading as A Quote I like.\n",
    "Use blockquotes to print the text of the quotes.\n",
    "\n",
    "Provide your answer in the cell below."
   ]
  },
  {
   "cell_type": "markdown",
   "metadata": {},
   "source": [
    "## A QUOTE I LIKE\n",
    "\n",
    "> Truthful words are not beautiful; beautiful words are not truthful. Good words are not persuasive; persuasive words are not good.  \n",
    "\\- Lao Tzu"
   ]
  },
  {
   "cell_type": "markdown",
   "metadata": {},
   "source": [
    "## TASK 8."
   ]
  },
  {
   "cell_type": "raw",
   "metadata": {},
   "source": [
    "Write code to produce the output in the following cell.\n",
    "The first is a span of code, and the second lines is printed as a code block.\n",
    "\n",
    "Provide your answer in the empty cell below."
   ]
  },
  {
   "cell_type": "markdown",
   "metadata": {
    "slideshow": {
     "slide_type": "slide"
    }
   },
   "source": [
    "![solution](task9.jpg)"
   ]
  },
  {
   "cell_type": "markdown",
   "metadata": {},
   "source": [
    "not sure what you want here, so i'm embedding `print(\"some code\")` but i'll also do a python block in the next cell\n",
    "\n",
    "    print(\"maybe this?\")"
   ]
  },
  {
   "cell_type": "code",
   "execution_count": 8,
   "metadata": {},
   "outputs": [
    {
     "name": "stdout",
     "output_type": "stream",
     "text": [
      "Super stoked to be using python and not r\n"
     ]
    }
   ],
   "source": [
    "print(\"Super stoked to be using python and not r\")"
   ]
  },
  {
   "cell_type": "markdown",
   "metadata": {},
   "source": [
    "## TASK 9."
   ]
  },
  {
   "cell_type": "markdown",
   "metadata": {},
   "source": [
    "Print your first name in bold and between a pair of asterisks.\n",
    "\n",
    "Provide your answer in the cell below."
   ]
  },
  {
   "cell_type": "markdown",
   "metadata": {},
   "source": [
    "**\\*meag\\***"
   ]
  },
  {
   "cell_type": "markdown",
   "metadata": {},
   "source": [
    "## TASK 10."
   ]
  },
  {
   "cell_type": "raw",
   "metadata": {},
   "source": [
    "Draw  a horizontal rule.\n",
    "\n",
    "Provide your answer in the cell below."
   ]
  },
  {
   "cell_type": "markdown",
   "metadata": {},
   "source": [
    "***"
   ]
  },
  {
   "cell_type": "raw",
   "metadata": {},
   "source": [
    "THE END"
   ]
  },
  {
   "cell_type": "code",
   "execution_count": null,
   "metadata": {},
   "outputs": [],
   "source": []
  }
 ],
 "metadata": {
  "hide_input": false,
  "kernelspec": {
   "display_name": "Python 3",
   "language": "python",
   "name": "python3"
  },
  "language_info": {
   "codemirror_mode": {
    "name": "ipython",
    "version": 3
   },
   "file_extension": ".py",
   "mimetype": "text/x-python",
   "name": "python",
   "nbconvert_exporter": "python",
   "pygments_lexer": "ipython3",
   "version": "3.7.4"
  },
  "toc": {
   "base_numbering": "",
   "nav_menu": {},
   "number_sections": false,
   "sideBar": true,
   "skip_h1_title": false,
   "title_cell": "Table of Contents",
   "title_sidebar": "Contents",
   "toc_cell": false,
   "toc_position": {},
   "toc_section_display": true,
   "toc_window_display": false
  },
  "varInspector": {
   "cols": {
    "lenName": 16,
    "lenType": 16,
    "lenVar": 40
   },
   "kernels_config": {
    "python": {
     "delete_cmd_postfix": "",
     "delete_cmd_prefix": "del ",
     "library": "var_list.py",
     "varRefreshCmd": "print(var_dic_list())"
    },
    "r": {
     "delete_cmd_postfix": ") ",
     "delete_cmd_prefix": "rm(",
     "library": "var_list.r",
     "varRefreshCmd": "cat(var_dic_list()) "
    }
   },
   "position": {
    "height": "470.35px",
    "left": "2117px",
    "right": "20px",
    "top": "176px",
    "width": "500.5px"
   },
   "types_to_exclude": [
    "module",
    "function",
    "builtin_function_or_method",
    "instance",
    "_Feature"
   ],
   "window_display": true
  }
 },
 "nbformat": 4,
 "nbformat_minor": 4
}
